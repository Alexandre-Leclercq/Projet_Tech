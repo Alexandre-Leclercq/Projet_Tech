{
 "cells": [
  {
   "cell_type": "code",
   "execution_count": 1,
   "outputs": [
    {
     "name": "stdout",
     "output_type": "stream",
     "text": [
      "####################\n",
      "####################\n",
      "##.#...............#\n",
      "##.#.###.#########.#\n",
      "##.#.#...#.......#.#\n",
      "##.#.#.#####.###.#.#\n",
      "##...#.....#.#...#.#\n",
      "######.###.###.#.#.#\n",
      "##...#...#.#...#.#.#\n",
      "##.#.#####.#.#####.#\n",
      "##.#.#.....#.....#.#\n",
      "##.#.#.#####.###.#.#\n",
      "##.#S#.#...#.#.#...#\n",
      "##.###.#.#.#.#.#####\n",
      "##.....#.#...#.....#\n",
      "########.#####.###.#\n",
      "##.....#.#.......#.#\n",
      "##.#####.#######.#.#\n",
      "##..........E....#.#\n",
      "####################\n"
     ]
    }
   ],
   "source": [
    "import plateau\n",
    "board = plateau.Board(20, 1)\n",
    "\n",
    "# Affichage du plateau\n",
    "board.render(mode=\"computed\")"
   ],
   "metadata": {
    "collapsed": false
   }
  },
  {
   "cell_type": "code",
   "execution_count": 1,
   "outputs": [
    {
     "data": {
      "text/plain": "True"
     },
     "execution_count": 1,
     "metadata": {},
     "output_type": "execute_result"
    }
   ],
   "source": [
    "import torch\n",
    "torch.cuda.is_available()"
   ],
   "metadata": {
    "collapsed": false
   }
  },
  {
   "cell_type": "code",
   "execution_count": 10,
   "outputs": [
    {
     "name": "stdout",
     "output_type": "stream",
     "text": [
      "tensor([[False, False, False, False],\n",
      "        [False,  True, False, False],\n",
      "        [False, False, False, False]])\n"
     ]
    }
   ],
   "source": [
    "test: torch.BoolTensor = torch.zeros((3, 4), dtype=bool)\n",
    "test[1][1] = True\n",
    "print(test)"
   ],
   "metadata": {
    "collapsed": false
   }
  },
  {
   "cell_type": "code",
   "execution_count": 16,
   "outputs": [
    {
     "name": "stdout",
     "output_type": "stream",
     "text": [
      "ok2\n"
     ]
    }
   ],
   "source": [
    "a = 0\n",
    "if a is None:\n",
    "    print(\"ok\")"
   ],
   "metadata": {
    "collapsed": false
   }
  },
  {
   "cell_type": "code",
   "execution_count": 19,
   "outputs": [
    {
     "name": "stdout",
     "output_type": "stream",
     "text": [
      "True\n"
     ]
    }
   ],
   "source": [
    "print([1, 1] == [1, 1])"
   ],
   "metadata": {
    "collapsed": false
   }
  },
  {
   "cell_type": "code",
   "execution_count": null,
   "outputs": [],
   "source": [],
   "metadata": {
    "collapsed": false
   }
  }
 ],
 "metadata": {
  "kernelspec": {
   "display_name": "Python 3 (ipykernel)",
   "language": "python",
   "name": "python3"
  },
  "language_info": {
   "codemirror_mode": {
    "name": "ipython",
    "version": 3
   },
   "file_extension": ".py",
   "mimetype": "text/x-python",
   "name": "python",
   "nbconvert_exporter": "python",
   "pygments_lexer": "ipython3",
   "version": "3.9.7"
  }
 },
 "nbformat": 4,
 "nbformat_minor": 5
}
