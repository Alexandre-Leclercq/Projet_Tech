{
 "cells": [
  {
   "cell_type": "markdown",
   "source": [
    "# 1. Passive learning without random policy"
   ],
   "metadata": {
    "collapsed": false
   }
  },
  {
   "cell_type": "markdown",
   "source": [
    "We set a discount factor $\\gamma = 0.95$ as we consider that future reward are very important. However, we don't set $\\gamma = 0.95$ as we want to penalize state that are far from the solution"
   ],
   "metadata": {
    "collapsed": false
   }
  },
  {
   "cell_type": "code",
   "execution_count": 1,
   "outputs": [
    {
     "name": "stdout",
     "output_type": "stream",
     "text": [
      "0  |.|.|.|.|.|.|.|.|.|.|.|E|\n",
      "1  |.|.|.|.|.|.|.|.|.|.|.|.|\n",
      "2  |.|.|.|.|.|.|.|.|.|.|.|.|\n",
      "3  |.|.|.|.|.|.|.|.|.|.|.|.|\n",
      "4  |.|.|.|.|.|.|.|.|.|.|.|.|\n",
      "5  |.|.|.|.|.|.|.|.|.|.|.|.|\n",
      "6  |C|.|.|.|.|.|.|.|.|.|.|.|\n",
      "\n"
     ]
    }
   ],
   "source": [
    "from environment import SimpleMaze\n",
    "from agent import PassiveAgentTD\n",
    "\n",
    "row, col = 7, 12\n",
    "\n",
    "env = SimpleMaze(row, col)\n",
    "env.render()"
   ],
   "metadata": {
    "collapsed": false
   }
  },
  {
   "cell_type": "code",
   "execution_count": 2,
   "outputs": [
    {
     "name": "stdout",
     "output_type": "stream",
     "text": [
      "learning completed\n",
      "[6, 0]    [5, 0]    [4, 0]    [3, 0]    [2, 0]    [1, 0]    [0, 0]    [0, 1]    [0, 2]    [0, 3]    [0, 4]    [0, 5]    [0, 6]    [0, 7]    [0, 8]    [0, 9]    [0, 10]   \n",
      "0         0         0         0         0         0         0         0         0         0         0         0         0         0         0         0         0         \n",
      "-0.91     -0.91     -0.91     -0.91     -0.91     -0.91     -0.91     -0.91     -0.91     -0.91     -0.91     -0.91     -0.91     -0.91     -0.91     -0.91     909.09    \n",
      "-1.7      -1.7      -1.7      -1.7      -1.7      -1.7      -1.7      -1.7      -1.7      -1.7      -1.7      -1.7      -1.7      -1.7      -1.7      718.71    984.85    \n",
      "-2.41     -2.41     -2.41     -2.41     -2.41     -2.41     -2.41     -2.41     -2.41     -2.41     -2.41     -2.41     -2.41     -2.41     524.05    884.78    996.5     \n",
      "-3.04     -3.04     -3.04     -3.04     -3.04     -3.04     -3.04     -3.04     -3.04     -3.04     -3.04     -3.04     -3.04     354.2     749.4     928.28    999.0     \n",
      "-3.6      -3.6      -3.6      -3.6      -3.6      -3.6      -3.6      -3.6      -3.6      -3.6      -3.6      -3.6      222.65    592.02    837.05    941.46    999.67    \n",
      "-4.11     -4.11     -4.11     -4.11     -4.11     -4.11     -4.11     -4.11     -4.11     -4.11     -4.11     130.22    434.38    718.38    872.26    945.98    999.88    \n",
      "-4.58     -4.58     -4.58     -4.58     -4.58     -4.58     -4.58     -4.58     -4.58     -4.58     70.49     295.78    579.72    782.65    887.21    947.68    999.95    \n",
      "-5.01     -5.01     -5.01     -5.01     -5.01     -5.01     -5.01     -5.01     -5.01     34.61     186.88    436.87    670.17    815.54    893.93    948.39    999.98    \n",
      "-5.4      -5.4      -5.4      -5.4      -5.4      -5.4      -5.4      -5.4      14.41     109.31    306.43    541.49    724.69    832.75    897.11    948.7     999.99    \n",
      "-5.77     -5.77     -5.77     -5.77     -5.77     -5.77     -5.77     3.64      58.62     199.71    409.92    614.47    757.4     842.0     898.69    948.84    999.99    \n",
      "-6.11     -6.11     -6.11     -6.11     -6.11     -6.11     -1.85     27.95     120.57    289.57    492.22    664.02    777.16    847.12    899.5     948.92    1000.0    \n",
      "-6.42     -6.42     -6.42     -6.42     -6.42     -4.59     10.61     66.86     190.36    370.04    554.77    697.33    789.25    850.03    899.94    948.95    1000.0    \n",
      "-6.72     -6.72     -6.72     -6.72     -5.96     1.35      33.17     115.98    260.0     437.86    601.16    719.71    796.76    851.73    900.19    948.97    1000.0    \n",
      "-7.0      -7.0      -7.0      -6.7      -3.36     13.5      64.84     170.16    324.57    492.96    635.14    734.8     801.51    852.75    900.33    948.98    1000.0    \n",
      "-7.26     -7.26     -7.14     -5.69     2.72      32.34     103.17    225.03    381.67    536.73    659.91    745.05    804.55    853.38    900.41    948.99    1000.0    \n",
      "-7.5      -7.46     -6.86     -2.89     13.11     57.21     145.32    277.55    430.6     571.03    677.94    752.08    806.53    853.77    900.46    948.99    1000.0    \n",
      "-7.72     -7.48     -5.71     2.42      28.01     86.79     188.79    325.89    471.67    597.7     691.1     756.94    807.85    854.01    900.49    949.0     1000.0    \n",
      "-7.86     -7.1      -3.21     10.7      47.1      119.49    231.58    369.18    505.65    618.36    700.74    760.34    808.73    854.18    900.51    949.0     1000.0    \n",
      "-7.82     -6.05     1.06      22.09     69.65     153.8     272.32    407.17    533.51    634.34    707.84    762.74    809.33    854.28    900.52    949.0     1000.0    \n",
      "-7.46     -4.03     7.37      36.45     94.81     188.43    310.15    440.06    556.22    646.71    713.09    764.44    809.74    854.35    900.53    949.0     1000.0    \n",
      "-6.61     -0.79     15.84     53.43     121.65    222.37    344.64    468.24    574.65    656.3     717.01    765.67    810.03    854.4     900.54    949.0     1000.0    \n",
      "-5.09     3.84      26.44     72.53     149.34    254.88    375.63    492.2     589.6     663.75    719.94    766.57    810.23    854.44    900.54    949.0     1000.0    \n",
      "-2.75     9.99      39.0      93.24     177.15    285.48    403.2     512.48    601.71    669.57    722.15    767.22    810.38    854.46    900.54    949.0     1000.0    \n",
      "0.56      17.65     53.29     115.02    204.52    313.88    427.51    529.58    611.53    674.12    723.83    767.7     810.48    854.48    900.55    949.0     1000.0    \n",
      "4.9       26.79     69.0      137.39    231.0     339.95    448.82    543.97    619.5     677.7     725.11    768.06    810.56    854.49    900.55    949.0     1000.0    \n",
      "10.33     37.28     85.81     159.9     256.26    363.68    467.42    556.07    625.97    680.52    726.1     768.33    810.62    854.5     900.55    949.0     1000.0    \n",
      "16.84     48.96     103.4     182.21    280.11    385.13    483.59    566.23    631.25    682.75    726.86    768.54    810.66    854.5     900.55    949.0     1000.0    \n",
      "24.39     61.67     121.48    204.03    302.42    404.42    497.63    574.77    635.56    684.53    727.45    768.69    810.69    854.51    900.55    949.0     1000.0    \n",
      "32.9      75.19     139.78    225.12    323.13    421.68    509.78    581.95    639.08    685.96    727.91    768.81    810.71    854.51    900.55    949.0     1000.0    \n",
      "42.28     89.34     158.05    245.33    342.25    437.08    520.3     588.0     641.98    687.1     728.28    768.9     810.73    854.51    900.55    949.0     1000.0    \n",
      "52.43     103.93    176.1     264.55    359.8     450.79    529.4     593.09    644.36    688.01    728.57    768.97    810.75    854.52    900.55    949.0     1000.0    \n",
      "63.21     118.78    193.77    282.71    375.86    462.97    537.26    597.39    646.32    688.76    728.79    769.03    810.76    854.52    900.55    949.0     1000.0    \n",
      "74.52     133.73    210.94    299.77    390.5     473.77    544.07    601.02    647.95    689.36    728.98    769.07    810.76    854.52    900.55    949.0     1000.0    \n",
      "86.23     148.65    227.49    315.73    403.82    483.33    549.95    604.1     649.3     689.85    729.12    769.11    810.77    854.52    900.55    949.0     1000.0    \n",
      "98.23     163.42    243.37    330.59    415.89    491.81    555.05    606.7     650.43    690.26    729.24    769.14    810.78    854.52    900.55    949.0     1000.0    \n",
      "110.41    177.94    258.52    344.4     426.83    499.3     559.47    608.92    651.36    690.59    729.34    769.16    810.78    854.52    900.55    949.0     1000.0    \n",
      "122.67    192.12    272.92    357.18    436.73    505.94    563.3     610.81    652.15    690.86    729.41    769.18    810.78    854.52    900.55    949.0     1000.0    \n",
      "134.93    205.9     286.54    369.0     445.67    511.81    566.63    612.42    652.81    691.09    729.48    769.19    810.79    854.52    900.55    949.0     1000.0    \n",
      "147.11    219.23    299.4     379.89    453.74    517.01    569.52    613.8     653.37    691.27    729.53    769.2     810.79    854.52    900.55    949.0     1000.0    \n",
      "159.14    232.07    311.5     389.93    461.03    521.62    572.04    614.98    653.83    691.43    729.57    769.21    810.79    854.52    900.55    949.0     1000.0    \n",
      "170.97    244.4     322.86    399.15    467.6     525.7     574.23    615.99    654.23    691.56    729.61    769.22    810.79    854.52    900.55    949.0     1000.0    \n",
      "182.55    256.19    333.5     407.62    473.52    529.32    576.15    616.86    654.57    691.67    729.64    769.22    810.79    854.52    900.55    949.0     1000.0    \n",
      "193.84    267.44    343.45    415.4     478.87    532.53    577.82    617.61    654.85    691.76    729.66    769.23    810.79    854.52    900.55    949.0     1000.0    \n",
      "204.81    278.15    352.74    422.54    483.69    535.38    579.29    618.26    655.1     691.84    729.68    769.23    810.79    854.52    900.55    949.0     1000.0    \n",
      "215.43    288.33    361.41    429.08    488.04    537.92    580.57    618.82    655.31    691.9     729.7     769.24    810.79    854.52    900.55    949.0     1000.0    \n",
      "225.69    297.97    369.48    435.07    491.97    540.17    581.7     619.31    655.48    691.96    729.71    769.24    810.79    854.52    900.55    949.0     1000.0    \n",
      "235.59    307.1     377.0     440.56    495.51    542.18    582.69    619.73    655.64    692.0     729.72    769.24    810.79    854.52    900.55    949.0     1000.0    \n",
      "245.1     315.73    383.99    445.59    498.71    543.97    583.56    620.1     655.77    692.04    729.73    769.24    810.79    854.52    900.55    949.0     1000.0    \n",
      "254.22    323.88    390.48    450.2     501.6     545.56    584.33    620.41    655.88    692.08    729.74    769.25    810.79    854.52    900.55    949.0     1000.0    \n",
      "262.97    331.56    396.52    454.42    504.21    546.99    585.0     620.69    655.98    692.11    729.75    769.25    810.8     854.52    900.55    949.0     1000.0    \n",
      "271.33    338.79    402.12    458.28    506.58    548.26    585.6     620.94    656.07    692.13    729.75    769.25    810.8     854.52    900.55    949.0     1000.0    \n",
      "279.32    345.6     407.32    461.83    508.72    549.4     586.13    621.15    656.14    692.15    729.76    769.25    810.8     854.52    900.55    949.0     1000.0    \n",
      "286.94    352.01    412.15    465.07    510.66    550.42    586.6     621.34    656.21    692.17    729.76    769.25    810.8     854.52    900.55    949.0     1000.0    \n",
      "294.2     358.03    416.63    468.05    512.41    551.33    587.02    621.5     656.26    692.19    729.77    769.25    810.8     854.52    900.55    949.0     1000.0    \n",
      "301.11    363.68    420.79    470.78    514.01    552.16    587.39    621.65    656.31    692.2     729.77    769.25    810.8     854.52    900.55    949.0     1000.0    \n",
      "307.68    369.0     424.64    473.28    515.45    552.89    587.72    621.78    656.35    692.21    729.77    769.25    810.8     854.52    900.55    949.0     1000.0    \n",
      "313.93    373.98    428.22    475.58    516.77    553.56    588.01    621.89    656.39    692.23    729.78    769.25    810.8     854.52    900.55    949.0     1000.0    \n",
      "319.87    378.66    431.54    477.69    517.96    554.15    588.28    621.99    656.42    692.23    729.78    769.25    810.8     854.52    900.55    949.0     1000.0    \n",
      "325.5     383.06    434.62    479.63    519.04    554.69    588.51    622.08    656.45    692.24    729.78    769.25    810.8     854.52    900.55    949.0     1000.0    \n",
      "330.84    387.18    437.48    481.41    520.03    555.18    588.72    622.16    656.48    692.25    729.78    769.25    810.8     854.52    900.55    949.0     1000.0    \n",
      "335.91    391.04    440.14    483.05    520.93    555.61    588.91    622.23    656.5     692.26    729.78    769.25    810.8     854.52    900.55    949.0     1000.0    \n",
      "340.71    394.66    442.61    484.55    521.75    556.01    589.08    622.29    656.52    692.26    729.78    769.25    810.8     854.52    900.55    949.0     1000.0    \n",
      "345.26    398.06    444.9     485.94    522.5     556.37    589.23    622.35    656.54    692.27    729.79    769.26    810.8     854.52    900.55    949.0     1000.0    \n",
      "349.57    401.25    447.02    487.21    523.18    556.69    589.36    622.39    656.55    692.27    729.79    769.26    810.8     854.52    900.55    949.0     1000.0    \n",
      "353.65    404.24    449.0     488.39    523.8     556.98    589.48    622.44    656.57    692.27    729.79    769.26    810.8     854.52    900.55    949.0     1000.0    \n",
      "357.52    407.04    450.84    489.47    524.37    557.25    589.59    622.48    656.58    692.28    729.79    769.26    810.8     854.52    900.55    949.0     1000.0    \n",
      "361.18    409.67    452.55    490.47    524.9     557.49    589.69    622.51    656.59    692.28    729.79    769.26    810.8     854.52    900.55    949.0     1000.0    \n",
      "364.64    412.14    454.14    491.39    525.37    557.71    589.78    622.55    656.6     692.28    729.79    769.26    810.8     854.52    900.55    949.0     1000.0    \n",
      "367.92    414.46    455.62    492.24    525.81    557.91    589.86    622.57    656.61    692.28    729.79    769.26    810.8     854.52    900.55    949.0     1000.0    \n",
      "371.02    416.63    456.99    493.02    526.21    558.09    589.93    622.6     656.62    692.29    729.79    769.26    810.8     854.52    900.55    949.0     1000.0    \n",
      "373.96    418.67    458.27    493.75    526.58    558.26    590.0     622.62    656.62    692.29    729.79    769.26    810.8     854.52    900.55    949.0     1000.0    \n",
      "376.73    420.58    459.47    494.42    526.92    558.41    590.06    622.64    656.63    692.29    729.79    769.26    810.8     854.52    900.55    949.0     1000.0    \n",
      "379.36    422.38    460.58    495.04    527.23    558.55    590.11    622.66    656.63    692.29    729.79    769.26    810.8     854.52    900.55    949.0     1000.0    \n",
      "381.85    424.06    461.62    495.61    527.51    558.68    590.16    622.68    656.64    692.29    729.79    769.26    810.8     854.52    900.55    949.0     1000.0    \n",
      "384.2     425.65    462.58    496.15    527.77    558.79    590.21    622.69    656.64    692.29    729.79    769.26    810.8     854.52    900.55    949.0     1000.0    \n",
      "386.43    427.14    463.48    496.64    528.02    558.9     590.25    622.71    656.65    692.29    729.79    769.26    810.8     854.52    900.55    949.0     1000.0    \n",
      "388.54    428.54    464.33    497.1     528.24    558.99    590.29    622.72    656.65    692.3     729.79    769.26    810.8     854.52    900.55    949.0     1000.0    \n",
      "390.54    429.85    465.11    497.52    528.44    559.08    590.32    622.73    656.66    692.3     729.79    769.26    810.8     854.52    900.55    949.0     1000.0    \n",
      "392.43    431.09    465.85    497.91    528.63    559.16    590.35    622.74    656.66    692.3     729.79    769.26    810.8     854.52    900.55    949.0     1000.0    \n",
      "394.22    432.25    466.53    498.28    528.81    559.24    590.38    622.75    656.66    692.3     729.79    769.26    810.8     854.52    900.55    949.0     1000.0    \n",
      "395.91    433.35    467.17    498.62    528.97    559.31    590.4     622.76    656.66    692.3     729.79    769.26    810.8     854.52    900.55    949.0     1000.0    \n",
      "397.52    434.37    467.77    498.93    529.12    559.37    590.43    622.77    656.67    692.3     729.79    769.26    810.8     854.52    900.55    949.0     1000.0    \n",
      "399.04    435.34    468.33    499.23    529.26    559.43    590.45    622.77    656.67    692.3     729.79    769.26    810.8     854.52    900.55    949.0     1000.0    \n",
      "400.48    436.26    468.86    499.5     529.38    559.48    590.47    622.78    656.67    692.3     729.79    769.26    810.8     854.52    900.55    949.0     1000.0    \n",
      "401.84    437.11    469.35    499.75    529.5     559.53    590.49    622.79    656.67    692.3     729.79    769.26    810.8     854.52    900.55    949.0     1000.0    \n",
      "403.14    437.92    469.81    499.99    529.61    559.57    590.5     622.79    656.67    692.3     729.79    769.26    810.8     854.52    900.55    949.0     1000.0    \n",
      "404.36    438.69    470.24    500.21    529.71    559.62    590.52    622.8     656.67    692.3     729.79    769.26    810.8     854.52    900.55    949.0     1000.0    \n",
      "405.52    439.4     470.64    500.42    529.81    559.65    590.53    622.8     656.67    692.3     729.79    769.26    810.8     854.52    900.55    949.0     1000.0    \n",
      "406.63    440.08    471.02    500.61    529.89    559.69    590.55    622.8     656.68    692.3     729.79    769.26    810.8     854.52    900.55    949.0     1000.0    \n",
      "407.67    440.72    471.38    500.79    529.98    559.72    590.56    622.81    656.68    692.3     729.79    769.26    810.8     854.52    900.55    949.0     1000.0    \n",
      "408.66    441.32    471.71    500.96    530.05    559.75    590.57    622.81    656.68    692.3     729.79    769.26    810.8     854.52    900.55    949.0     1000.0    \n",
      "409.6     441.89    472.03    501.11    530.12    559.78    590.58    622.82    656.68    692.3     729.79    769.26    810.8     854.52    900.55    949.0     1000.0    \n",
      "410.5     442.43    472.32    501.26    530.19    559.81    590.59    622.82    656.68    692.3     729.79    769.26    810.8     854.52    900.55    949.0     1000.0    \n",
      "411.34    442.94    472.6     501.39    530.25    559.83    590.6     622.82    656.68    692.3     729.79    769.26    810.8     854.52    900.55    949.0     1000.0    \n",
      "412.15    443.42    472.86    501.52    530.3     559.85    590.6     622.82    656.68    692.3     729.79    769.26    810.8     854.52    900.55    949.0     1000.0    \n",
      "412.91    443.87    473.1     501.64    530.36    559.87    590.61    622.83    656.68    692.3     729.79    769.26    810.8     854.52    900.55    949.0     1000.0    \n",
      "413.64    444.3     473.33    501.75    530.4     559.89    590.62    622.83    656.68    692.3     729.79    769.26    810.8     854.52    900.55    949.0     1000.0    \n",
      "414.33    444.7     473.55    501.86    530.45    559.91    590.62    622.83    656.68    692.3     729.79    769.26    810.8     854.52    900.55    949.0     1000.0    \n",
      "414.98    445.08    473.75    501.96    530.49    559.93    590.63    622.83    656.68    692.3     729.79    769.26    810.8     854.52    900.55    949.0     1000.0    \n"
     ]
    }
   ],
   "source": [
    "agent = PassiveAgentTD(env, 100, gamma=0.95, debug=False)\n",
    "agent.learning()\n",
    "agent.print_u_table()"
   ],
   "metadata": {
    "collapsed": false
   }
  },
  {
   "cell_type": "code",
   "execution_count": 3,
   "outputs": [
    {
     "data": {
      "text/plain": "<Figure size 432x288 with 1 Axes>",
      "image/png": "[encoded data removed]"
     },
     "metadata": {
      "needs_background": "light"
     },
     "output_type": "display_data"
    }
   ],
   "source": [
    "import matplotlib.pyplot as plt\n",
    "utilities = agent.get_utilities()\n",
    "visited_states = agent.get_visited_state()\n",
    "\n",
    "fig = plt.figure()\n",
    "ax = plt.subplot(111)\n",
    "for i in range(len(visited_states)):\n",
    "    plt.plot(utilities[i], label=\"state \"+str(visited_states[i]))\n",
    "\n",
    "# Shrink current axis by 20%\n",
    "box = ax.get_position()\n",
    "ax.set_position([box.x0, box.y0, box.width * 0.8, box.height])\n",
    "\n",
    "# Put a legend to the right of the current axis\n",
    "ax.legend(loc='center left', bbox_to_anchor=(1, 0.5))\n",
    "plt.xlabel(\"Number of trials\")\n",
    "plt.show()"
   ],
   "metadata": {
    "collapsed": false
   }
  },
  {
   "cell_type": "code",
   "execution_count": 4,
   "outputs": [
    {
     "name": "stdout",
     "output_type": "stream",
     "text": [
      "   0        1        2        3        4        5        6        7        8        9        10       11       \n",
      "0  590.64   622.83   656.68   692.3    729.79   769.26   810.8    854.52   900.55   949.0    1000.0            \n",
      "1  559.94                                                                                                      \n",
      "2  530.53                                                                                                      \n",
      "3  502.05                                                                                                      \n",
      "4  473.94                                                                                                      \n",
      "5  445.44                                                                                                      \n",
      "6  415.6                                                                                                       \n"
     ]
    }
   ],
   "source": [
    "states = agent.get_visited_state()\n",
    "utilities = agent.get_utilities()\n",
    "print(\"   \", end=\"\")\n",
    "for i in range(col):\n",
    "    print(\"{:<8}\".format(str(i)), end=\" \")\n",
    "print()\n",
    "for i in range(row):\n",
    "    print(\"{:<2}\".format(str(i)), end=\" \")\n",
    "    for j in range(col):\n",
    "        if [i, j] in states:\n",
    "            print(\"{:<8}\".format(str(round(utilities[states.index([i, j])][-1], 2))), end=\" \")\n",
    "        else:\n",
    "            print(\"{:<8}\".format(\"\"), end=\" \")\n",
    "    print()"
   ],
   "metadata": {
    "collapsed": false
   }
  },
  {
   "cell_type": "markdown",
   "source": [
    "# 2. Passive learning with a random policy"
   ],
   "metadata": {
    "collapsed": false
   }
  },
  {
   "cell_type": "code",
   "execution_count": 5,
   "outputs": [
    {
     "name": "stdout",
     "output_type": "stream",
     "text": [
      "0  |.|.|.|.|.|.|.|.|.|.|.|E|\n",
      "1  |.|.|.|.|.|.|.|.|.|.|.|.|\n",
      "2  |.|.|.|.|.|.|.|.|.|.|.|.|\n",
      "3  |.|.|.|.|.|.|.|.|.|.|.|.|\n",
      "4  |.|.|.|.|.|.|.|.|.|.|.|.|\n",
      "5  |.|.|.|.|.|.|.|.|.|.|.|.|\n",
      "6  |C|.|.|.|.|.|.|.|.|.|.|.|\n",
      "\n"
     ]
    }
   ],
   "source": [
    "from environment import SimpleMaze\n",
    "from agent import PassiveAgentTD\n",
    "\n",
    "row, col = 7, 12\n",
    "\n",
    "env = SimpleMaze(row, col)\n",
    "env.render()"
   ],
   "metadata": {
    "collapsed": false
   }
  },
  {
   "cell_type": "code",
   "execution_count": 6,
   "outputs": [
    {
     "name": "stdout",
     "output_type": "stream",
     "text": [
      "learning completed\n"
     ]
    }
   ],
   "source": [
    "agent = PassiveAgentTD(env, 500, seed=0, gamma=0.95, random_policy=True, debug=False)\n",
    "agent.learning()"
   ],
   "metadata": {
    "collapsed": false
   }
  },
  {
   "cell_type": "code",
   "execution_count": 7,
   "outputs": [
    {
     "name": "stdout",
     "output_type": "stream",
     "text": [
      "   0        1        2        3        4        5        6        7        8        9        10       11       \n",
      "0  15.04    33.73    53.58    68.8     88.22    106.77   162.13   216.28   260.02   374.1    655.01   0        \n",
      "1  5.78     16.66    38.68    51.95    67.73    77.95    104.15   159.88   210.55   258.03   350.76   300.56   \n",
      "2  5.37     10.92    35.56    52.12    64.32    68.64    90.27    136.4    181.59   181.95   189.69   95.96    \n",
      "3  4.5      10.46    20.44    40.76    58.24    60.12    83.77    121.07   104.35   136.79   120.65   71.89    \n",
      "4  2.74     7.15     8.84     10.06    36.31    39.13    44.64    32.05    44.04    55.4     42.6     41.45    \n",
      "5  2.71     5.13     5.11     5.94     10.19    10.82             24.59    30.33    42.09    31.41    23.7     \n",
      "6  1.59     2.18     1.65     5.38     8.64     7.92              18.52    21.77    37.36    24.26    20.67    \n"
     ]
    }
   ],
   "source": [
    "states = agent.get_visited_state()\n",
    "utilities = agent.get_utilities()\n",
    "print(\"   \", end=\"\")\n",
    "for i in range(col):\n",
    "    print(\"{:<8}\".format(str(i)), end=\" \")\n",
    "print()\n",
    "for i in range(row):\n",
    "    print(\"{:<2}\".format(str(i)), end=\" \")\n",
    "    for j in range(col):\n",
    "        if [i, j] in states:\n",
    "            print(\"{:<8}\".format(str(round(utilities[states.index([i, j])][-1], 2))), end=\" \")\n",
    "        else:\n",
    "            print(\"{:<8}\".format(\"\"), end=\" \")\n",
    "    print()"
   ],
   "metadata": {
    "collapsed": false
   }
  },
  {
   "cell_type": "markdown",
   "source": [
    "# 3. Active learning with Q-function"
   ],
   "metadata": {
    "collapsed": false
   },
   "execution_count": 1
  },
  {
   "cell_type": "code",
   "execution_count": 8,
   "outputs": [
    {
     "name": "stdout",
     "output_type": "stream",
     "text": [
      "0  |.|.|.|.|.|.|.|.|.|.|.|E|\n",
      "1  |.|.|.|.|.|.|.|.|.|.|.|.|\n",
      "2  |.|.|.|.|.|.|.|.|.|.|.|.|\n",
      "3  |.|.|.|.|.|.|.|.|.|.|.|.|\n",
      "4  |.|.|.|.|.|.|.|.|.|.|.|.|\n",
      "5  |.|.|.|.|.|.|.|.|.|.|.|.|\n",
      "6  |C|.|.|.|.|.|.|.|.|.|.|.|\n",
      "\n"
     ]
    }
   ],
   "source": [
    "from environment import SimpleMaze\n",
    "from agent import ActiveAgentQLearning\n",
    "\n",
    "row, col = 7, 12\n",
    "\n",
    "env = SimpleMaze(row, col)\n",
    "env.render()"
   ],
   "metadata": {
    "collapsed": false
   }
  },
  {
   "cell_type": "code",
   "execution_count": 9,
   "outputs": [
    {
     "name": "stdout",
     "output_type": "stream",
     "text": [
      "learning completed\n"
     ]
    }
   ],
   "source": [
    "agent = ActiveAgentQLearning(env, 200, q_min=2000, n_min=20, gamma=0.95, debug=False)\n",
    "agent.learning()"
   ],
   "metadata": {
    "collapsed": false
   }
  },
  {
   "cell_type": "markdown",
   "source": [
    "## utility for each state"
   ],
   "metadata": {
    "collapsed": false
   }
  },
  {
   "cell_type": "code",
   "execution_count": 10,
   "outputs": [
    {
     "name": "stdout",
     "output_type": "stream",
     "text": [
      "   0        1        2        3        4        5        6        7        8        9        10       11       \n",
      "0  536.28   582.24   620.39   656.11   692.19   729.78   769.25   810.8    854.52   900.55   949.0    1000.0   \n",
      "1  531.17   560.18   590.71   622.85   656.69   692.3    729.79   769.26   810.8    854.52   900.55   949.0    \n",
      "2  503.61   531.17   560.18   590.71   622.85   656.69   692.3    729.79   769.26   810.8    854.52   900.55   \n",
      "3  477.43   503.61   531.17   560.18   590.71   622.85   656.69   692.3    729.79   769.26   810.8    854.52   \n",
      "4  452.56   477.43   503.61   531.17   560.18   590.71   622.85   656.69   692.3    729.79   769.26   810.8    \n",
      "5  428.93   452.56   477.43   503.61   531.17   560.18   590.71   622.85   656.69   692.3    729.79   769.26   \n",
      "6  406.48   428.93   452.56   477.43   503.61   531.17   560.18   590.71   622.85   656.69   692.3    729.79   \n"
     ]
    }
   ],
   "source": [
    "utilities = agent.get_utilities()\n",
    "print(\"   \", end=\"\")\n",
    "for i in range(col):\n",
    "    print(\"{:<8}\".format(str(i)), end=\" \")\n",
    "print()\n",
    "for i in range(row):\n",
    "    print(\"{:<2}\".format(str(i)), end=\" \")\n",
    "    for j in range(col):\n",
    "        print(\"{:<8}\".format(str(round(utilities[i*col + j].item(), 2))), end=\" \")\n",
    "    print()"
   ],
   "metadata": {
    "collapsed": false
   }
  },
  {
   "cell_type": "markdown",
   "source": [
    "## State representation"
   ],
   "metadata": {
    "collapsed": false
   }
  },
  {
   "cell_type": "code",
   "execution_count": 11,
   "outputs": [
    {
     "name": "stdout",
     "output_type": "stream",
     "text": [
      "   0        1        2        3        4        5        6        7        8        9        10       11       \n",
      "0  0        1        2        3        4        5        6        7        8        9        10       11       \n",
      "1  12       13       14       15       16       17       18       19       20       21       22       23       \n",
      "2  24       25       26       27       28       29       30       31       32       33       34       35       \n",
      "3  36       37       38       39       40       41       42       43       44       45       46       47       \n",
      "4  48       49       50       51       52       53       54       55       56       57       58       59       \n",
      "5  60       61       62       63       64       65       66       67       68       69       70       71       \n",
      "6  72       73       74       75       76       77       78       79       80       81       82       83       \n"
     ]
    }
   ],
   "source": [
    "print(\"   \", end=\"\")\n",
    "for i in range(col):\n",
    "    print(\"{:<8}\".format(str(i)), end=\" \")\n",
    "print()\n",
    "for i in range(row):\n",
    "    print(\"{:<2}\".format(str(i)), end=\" \")\n",
    "    for j in range(col):\n",
    "        print(\"{:<8}\".format(str(i*col + j)), end=\" \")\n",
    "    print()"
   ],
   "metadata": {
    "collapsed": false
   }
  },
  {
   "cell_type": "markdown",
   "source": [
    "# Maze environment"
   ],
   "metadata": {
    "collapsed": false
   }
  },
  {
   "cell_type": "code",
   "execution_count": 12,
   "outputs": [
    {
     "name": "stdout",
     "output_type": "stream",
     "text": [
      "##############################\n",
      "#.#.......#.............#...##\n",
      "#.#.#####.#.###.#########E#.##\n",
      "#.#...#...#.#.#.#.........#.##\n",
      "#.###.#.###.#.#.#.#######.#.##\n",
      "#.....#.#...#.#...#.....#.#.##\n",
      "#.#####.#.###.#####.###.###.##\n",
      "#.#.....#.#.#...#...#.#..S#.##\n",
      "#.#.#####.#.#.#.#.###.#####.##\n",
      "#.#...#...#...#.#.#...#.....##\n",
      "#.###.#.#######.#.#.#.#####.##\n",
      "#...#...........#...#.......##\n",
      "##############################\n"
     ]
    }
   ],
   "source": [
    "from environment import Maze\n",
    "\n",
    "env = Maze(13, 30)\n",
    "env.render()"
   ],
   "metadata": {
    "collapsed": false
   }
  }
 ],
 "metadata": {
  "kernelspec": {
   "display_name": "Python 3 (ipykernel)",
   "language": "python",
   "name": "python3"
  },
  "language_info": {
   "codemirror_mode": {
    "name": "ipython",
    "version": 3
   },
   "file_extension": ".py",
   "mimetype": "text/x-python",
   "name": "python",
   "nbconvert_exporter": "python",
   "pygments_lexer": "ipython3",
   "version": "3.9.7"
  }
 },
 "nbformat": 4,
 "nbformat_minor": 5
}
