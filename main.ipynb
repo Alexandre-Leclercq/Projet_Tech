{
 "cells": [
  {
   "cell_type": "markdown",
   "source": [
    "# 1. Passive learning without random policy"
   ],
   "metadata": {
    "collapsed": false
   }
  },
  {
   "cell_type": "markdown",
   "source": [
    "We set a discount factor $\\gamma = 0.95$ as we consider that future reward are very important. However, we don't set $\\gamma = 0.95$ as we want to penalize state that are far from the solution"
   ],
   "metadata": {
    "collapsed": false
   }
  },
  {
   "cell_type": "code",
   "execution_count": 3,
   "outputs": [
    {
     "name": "stdout",
     "output_type": "stream",
     "text": [
      "0    |#|#|#|#|#|#|#|#|#|#|#|#|#|#|#|#|#|#|#|#|\n",
      "1    |#|C|C|A|.|.|P|P|.|P|.|.|#|.|.|.|.|.|#|#|\n",
      "2    |#|.|#|#|#|#|#|.|#|#|#|.|#|#|#|#|#|P|#|#|\n",
      "3    |#|P|#|.|P|P|.|.|#|.|.|.|#|P|.|.|P|.|#|#|\n",
      "4    |#|.|#|.|#|#|#|#|#|E|#|#|#|.|#|#|#|.|#|#|\n",
      "5    |#|.|#|P|P|.|#|.|.|.|#|.|.|P|#|.|#|C|#|#|\n",
      "6    |#|.|#|#|#|.|#|.|#|#|#|.|#|#|#|.|#|.|#|#|\n",
      "7    |#|.|.|P|.|P|#|.|.|.|.|P|#|P|.|.|P|P|#|#|\n",
      "8    |#|#|#|#|#|#|#|#|#|#|#|#|#|#|#|#|#|#|#|#|\n",
      "9    |#|#|#|#|#|#|#|#|#|#|#|#|#|#|#|#|#|#|#|#|\n",
      "\n"
     ]
    }
   ],
   "source": [
    "from environment import SimpleMazeObstacle\n",
    "from agent import PassiveAgentTD\n",
    "\n",
    "row, col = 10, 20\n",
    "#\n",
    "env = SimpleMazeObstacle(row, col,seed=2,ratio_obstacles=0.5)\n",
    "env.reset()\n",
    "env.render()"
   ],
   "metadata": {
    "collapsed": false
   }
  },
  {
   "cell_type": "code",
   "execution_count": null,
   "outputs": [],
   "source": [
    "agent = PassiveAgentTD(env, 100, gamma=0.95, debug=False)\n",
    "agent.learning()\n",
    "agent.print_u_table()"
   ],
   "metadata": {
    "collapsed": false
   }
  },
  {
   "cell_type": "code",
   "execution_count": null,
   "outputs": [],
   "source": [
    "import matplotlib.pyplot as plt\n",
    "utilities = agent.get_utilities()\n",
    "visited_states = agent.get_visited_state()\n",
    "\n",
    "fig = plt.figure()\n",
    "ax = plt.subplot(111)\n",
    "for i in range(len(visited_states)):\n",
    "    plt.plot(utilities[i], label=\"state \"+str(visited_states[i]))\n",
    "\n",
    "# Shrink current axis by 20%\n",
    "box = ax.get_position()\n",
    "ax.set_position([box.x0, box.y0, box.width * 0.8, box.height])\n",
    "\n",
    "# Put a legend to the right of the current axis\n",
    "ax.legend(loc='center left', bbox_to_anchor=(1, 0.5))\n",
    "plt.xlabel(\"Number of trials\")\n",
    "plt.show()"
   ],
   "metadata": {
    "collapsed": false
   }
  },
  {
   "cell_type": "code",
   "execution_count": null,
   "outputs": [],
   "source": [
    "states = agent.get_visited_state()\n",
    "utilities = agent.get_utilities()\n",
    "print(\"   \", end=\"\")\n",
    "for i in range(col):\n",
    "    print(\"{:<8}\".format(str(i)), end=\" \")\n",
    "print()\n",
    "for i in range(row):\n",
    "    print(\"{:<2}\".format(str(i)), end=\" \")\n",
    "    for j in range(col):\n",
    "        if [i, j] in states:\n",
    "            print(\"{:<8}\".format(str(round(utilities[states.index([i, j])][-1], 2))), end=\" \")\n",
    "        else:\n",
    "            print(\"{:<8}\".format(\"\"), end=\" \")\n",
    "    print()"
   ],
   "metadata": {
    "collapsed": false
   }
  },
  {
   "cell_type": "markdown",
   "source": [
    "# 2. Passive learning with a random policy"
   ],
   "metadata": {
    "collapsed": false
   }
  },
  {
   "cell_type": "code",
   "execution_count": null,
   "outputs": [],
   "source": [
    "from environment import SimpleMaze\n",
    "from agent import PassiveAgentTD\n",
    "\n",
    "row, col = 7, 12\n",
    "\n",
    "env = SimpleMaze(row, col)\n",
    "env.render()"
   ],
   "metadata": {
    "collapsed": false
   }
  },
  {
   "cell_type": "code",
   "execution_count": null,
   "outputs": [],
   "source": [
    "agent = PassiveAgentTD(env, 500, seed=0, gamma=0.95, random_policy=True, debug=False)\n",
    "agent.learning()"
   ],
   "metadata": {
    "collapsed": false
   }
  },
  {
   "cell_type": "code",
   "execution_count": null,
   "outputs": [],
   "source": [
    "a = [1, 2, 3, 8]\n",
    "print(a.pop(0))"
   ],
   "metadata": {
    "collapsed": false
   }
  },
  {
   "cell_type": "code",
   "execution_count": null,
   "outputs": [],
   "source": [
    "states = agent.get_visited_state()\n",
    "utilities = agent.get_utilities()\n",
    "print(\"   \", end=\"\")\n",
    "for i in range(col):\n",
    "    print(\"{:<8}\".format(str(i)), end=\" \")\n",
    "print()\n",
    "for i in range(row):\n",
    "    print(\"{:<2}\".format(str(i)), end=\" \")\n",
    "    for j in range(col):\n",
    "        if [i, j] in states:\n",
    "            print(\"{:<8}\".format(str(round(utilities[states.index([i, j])][-1], 2))), end=\" \")\n",
    "        else:\n",
    "            print(\"{:<8}\".format(\"\"), end=\" \")\n",
    "    print()"
   ],
   "metadata": {
    "collapsed": false
   }
  },
  {
   "cell_type": "markdown",
   "source": [
    "# 3. Active learning with Q-function"
   ],
   "metadata": {
    "collapsed": false
   },
   "execution_count": 1
  },
  {
   "cell_type": "code",
   "execution_count": null,
   "outputs": [],
   "source": [
    "from environment import SimpleMaze\n",
    "from agent import ActiveAgentQLearning\n",
    "\n",
    "row, col = 7, 12\n",
    "\n",
    "env = SimpleMaze(row, col)\n",
    "env.render()"
   ],
   "metadata": {
    "collapsed": false
   }
  },
  {
   "cell_type": "code",
   "execution_count": null,
   "outputs": [],
   "source": [
    "agent = ActiveAgentQLearning(env, 200, q_min=2000, n_min=20, gamma=0.95, debug=False)\n",
    "agent.learning()"
   ],
   "metadata": {
    "collapsed": false
   }
  },
  {
   "cell_type": "markdown",
   "source": [
    "## utility for each state"
   ],
   "metadata": {
    "collapsed": false
   }
  },
  {
   "cell_type": "code",
   "execution_count": null,
   "outputs": [],
   "source": [
    "utilities = agent.get_utilities()\n",
    "print(\"   \", end=\"\")\n",
    "for i in range(col):\n",
    "    print(\"{:<8}\".format(str(i)), end=\" \")\n",
    "print()\n",
    "for i in range(row):\n",
    "    print(\"{:<2}\".format(str(i)), end=\" \")\n",
    "    for j in range(col):\n",
    "        print(\"{:<8}\".format(str(round(utilities[i*col + j].item(), 2))), end=\" \")\n",
    "    print()"
   ],
   "metadata": {
    "collapsed": false
   }
  },
  {
   "cell_type": "markdown",
   "source": [
    "## State representation"
   ],
   "metadata": {
    "collapsed": false
   }
  },
  {
   "cell_type": "code",
   "execution_count": null,
   "outputs": [],
   "source": [
    "print(\"   \", end=\"\")\n",
    "for i in range(col):\n",
    "    print(\"{:<8}\".format(str(i)), end=\" \")\n",
    "print()\n",
    "for i in range(row):\n",
    "    print(\"{:<2}\".format(str(i)), end=\" \")\n",
    "    for j in range(col):\n",
    "        print(\"{:<8}\".format(str(i*col + j)), end=\" \")\n",
    "    print()"
   ],
   "metadata": {
    "collapsed": false
   }
  },
  {
   "cell_type": "markdown",
   "source": [
    "# Maze environment"
   ],
   "metadata": {
    "collapsed": false
   }
  },
  {
   "cell_type": "code",
   "execution_count": null,
   "outputs": [],
   "source": [
    "from environment import Maze\n",
    "\n",
    "env = Maze(13, 30)\n",
    "env.render()"
   ],
   "metadata": {
    "collapsed": false
   }
  },
  {
   "cell_type": "code",
   "execution_count": null,
   "outputs": [],
   "source": [
    "test = [1, 0]\n",
    "a = [1, 1]\n",
    "a[1] = 0\n",
    "print(a == test)"
   ],
   "metadata": {
    "collapsed": false
   }
  },
  {
   "cell_type": "code",
   "execution_count": null,
   "outputs": [],
   "source": [
    "ACTIONS: dict = {  # we define the different actions doable\n",
    "    \"north\": (-1, 0),\n",
    "    \"east\": (0, 1),\n",
    "    \"south\": (1, 0),\n",
    "    \"west\": (0, -1)\n",
    "}"
   ],
   "metadata": {
    "collapsed": false
   }
  },
  {
   "cell_type": "code",
   "execution_count": null,
   "outputs": [],
   "source": [
    "list(ACTIONS.keys())"
   ],
   "metadata": {
    "collapsed": false
   }
  },
  {
   "cell_type": "code",
   "execution_count": null,
   "outputs": [],
   "source": [
    "import torch\n",
    "print(torch.__version__)"
   ],
   "metadata": {
    "collapsed": false
   }
  },
  {
   "cell_type": "code",
   "execution_count": null,
   "outputs": [],
   "source": [
    "from environment import SimpleMaze\n",
    "\n",
    "row, col = 7, 12\n",
    "\n",
    "env = SimpleMaze(row, col)\n",
    "env.render()"
   ],
   "metadata": {
    "collapsed": false
   }
  },
  {
   "cell_type": "code",
   "execution_count": null,
   "outputs": [],
   "source": [
    "random_platter_size_tensor=torch.rand(row,col)\n",
    "random_platter_size_tensor"
   ],
   "metadata": {
    "collapsed": false
   }
  },
  {
   "cell_type": "code",
   "execution_count": null,
   "outputs": [],
   "source": [
    "random_platter_size_tensor.ndim"
   ],
   "metadata": {
    "collapsed": false
   }
  },
  {
   "cell_type": "code",
   "execution_count": null,
   "outputs": [],
   "source": [
    "print(f\"Minimum: {random_platter_size_tensor.min()}\")\n",
    "print(f\"Maximum: {random_platter_size_tensor.max()}\")\n",
    "# print(f\"Mean: {x.mean()}\") # this will error\n",
    "print(f\"Mean: {random_platter_size_tensor.type(torch.float32).mean()}\") # won't work without float datatype\n",
    "print(f\"Sum: {random_platter_size_tensor.sum()}\")"
   ],
   "metadata": {
    "collapsed": false
   }
  },
  {
   "cell_type": "code",
   "execution_count": null,
   "outputs": [],
   "source": [
    "grille = []\n",
    "for i in range(3):\n",
    "    row = []\n",
    "    for j in range(3):\n",
    "        row.append(0)\n",
    "    grille.append(row)"
   ],
   "metadata": {
    "collapsed": false
   }
  },
  {
   "cell_type": "code",
   "execution_count": null,
   "outputs": [],
   "source": [
    "grille"
   ],
   "metadata": {
    "collapsed": false
   }
  },
  {
   "cell_type": "code",
   "execution_count": null,
   "outputs": [],
   "source": [
    "import torch\n",
    "GRILLE = torch.zeros((3,3), dtype=torch.int)\n",
    "GRILLE[0][0].item()"
   ],
   "metadata": {
    "collapsed": false
   }
  },
  {
   "cell_type": "code",
   "execution_count": null,
   "outputs": [],
   "source": [
    "t = [1,2]"
   ],
   "metadata": {
    "collapsed": false
   }
  },
  {
   "cell_type": "code",
   "execution_count": null,
   "outputs": [],
   "source": [
    "t[1]"
   ],
   "metadata": {
    "collapsed": false
   }
  },
  {
   "cell_type": "code",
   "execution_count": null,
   "outputs": [],
   "source": [
    "x=10\n",
    "rand_int = torch.randint(0, x, size=(1,)).item()\n",
    "\n",
    "print(rand_int)"
   ],
   "metadata": {
    "collapsed": false
   }
  },
  {
   "cell_type": "code",
   "execution_count": null,
   "outputs": [],
   "source": [],
   "metadata": {
    "collapsed": false
   }
  },
  {
   "cell_type": "code",
   "execution_count": null,
   "outputs": [],
   "source": [
    "grid = torch.zeros((3,3), dtype=torch.int)\n",
    "grid[0][0].item()\n",
    "character_pos = [0,0]"
   ],
   "metadata": {
    "collapsed": false
   }
  },
  {
   "cell_type": "code",
   "execution_count": null,
   "outputs": [],
   "source": [
    "free_place = []\n",
    "character_pos = [0,0]\n",
    "grid[0][0] = 5\n",
    "\n",
    "for i in torch.arange(3):\n",
    "    for j in torch.arange(3):\n",
    "       # print(\"La valeur de \",i.item(),\",\",j.item(),\":\",grid[i][j].item())\n",
    "       if [i,j] == character_pos :\n",
    "        continue\n",
    "       if grid[i][j].item() == 0:\n",
    "            free_place.append([i.item(),j.item()])\n",
    "\n",
    "place_obstacle =[]\n",
    "type_obstacle =[]\n",
    "random.shuffle(free_place) #ressort la liste mélanger\n",
    "\n",
    "for i in range(int(len(free_place)/2)):\n",
    "    place_obstacle.append(free_place.pop(0)) #supprime premier élément et le choisis\n",
    "    type_obstacle.append(torch.randint(1, 3, size=(1,)).item()) # ici jsp pq on met 3 et pas 2\n",
    "\n",
    "for i in range(len(place_obstacle)):\n",
    "    grid[place_obstacle[i][0]][place_obstacle[i][1]] = type_obstacle[i]\n",
    "\n",
    "print(\"generation finie\")"
   ],
   "metadata": {
    "collapsed": false
   }
  },
  {
   "cell_type": "code",
   "execution_count": null,
   "outputs": [],
   "source": [
    " grid"
   ],
   "metadata": {
    "collapsed": false
   }
  },
  {
   "cell_type": "code",
   "execution_count": null,
   "outputs": [],
   "source": [],
   "metadata": {
    "collapsed": false
   }
  },
  {
   "cell_type": "code",
   "execution_count": null,
   "outputs": [],
   "source": [],
   "metadata": {
    "collapsed": false
   }
  },
  {
   "cell_type": "code",
   "execution_count": null,
   "outputs": [],
   "source": [],
   "metadata": {
    "collapsed": false
   }
  },
  {
   "cell_type": "code",
   "execution_count": null,
   "outputs": [],
   "source": [
    "\n",
    "\n",
    "free_place=[0,1,2,3,4,5,6,7,8,9]\n",
    "place_obstacle =[]\n",
    "type_obstacle =[]\n",
    "random.shuffle(free_place) #ressort la liste mélanger\n",
    "\n",
    "for i in range(int(number_free_place/2)):\n",
    "    place_obstacle.append(free_place.pop(0)) #supprime premier élément et le choisis\n",
    "    type_obstacle.append(torch.randint(1, 3, size=(1,)).item()) # ici jsp pq on met 3 et pas 2\n"
   ],
   "metadata": {
    "collapsed": false
   }
  },
  {
   "cell_type": "code",
   "execution_count": null,
   "outputs": [],
   "source": [],
   "metadata": {
    "collapsed": false
   }
  },
  {
   "cell_type": "code",
   "execution_count": null,
   "outputs": [],
   "source": [
    "place_obstacle"
   ],
   "metadata": {
    "collapsed": false
   }
  },
  {
   "cell_type": "code",
   "execution_count": null,
   "outputs": [],
   "source": [
    "type_obstacle"
   ],
   "metadata": {
    "collapsed": false
   }
  },
  {
   "cell_type": "code",
   "execution_count": null,
   "outputs": [],
   "source": [],
   "metadata": {
    "collapsed": false
   }
  },
  {
   "cell_type": "code",
   "execution_count": null,
   "outputs": [],
   "source": [
    "for i in range(10):\n",
    "    if i % 2 == 0:\n",
    "        print(i)\n",
    "        i += 1\n",
    "    else:\n",
    "        print(\"pas pair\")\n",
    "        continue\n"
   ],
   "metadata": {
    "collapsed": false
   }
  },
  {
   "cell_type": "code",
   "execution_count": null,
   "outputs": [],
   "source": [
    "grid = torch.zeros((3,3), dtype=torch.int)\n",
    "\n",
    "character_pos = [0,0]\n",
    "\n",
    "grid[character_pos[0],character_pos[1]] == 1\n",
    "    return -200\n",
    "grid[character_pos[0],character_pos[1]] == 2\n",
    "    return +200"
   ],
   "metadata": {
    "collapsed": false
   }
  }
 ],
 "metadata": {
  "kernelspec": {
   "display_name": "Python 3 (ipykernel)",
   "language": "python",
   "name": "python3"
  },
  "language_info": {
   "codemirror_mode": {
    "name": "ipython",
    "version": 3
   },
   "file_extension": ".py",
   "mimetype": "text/x-python",
   "name": "python",
   "nbconvert_exporter": "python",
   "pygments_lexer": "ipython3",
   "version": "3.9.7"
  }
 },
 "nbformat": 4,
 "nbformat_minor": 5
}
